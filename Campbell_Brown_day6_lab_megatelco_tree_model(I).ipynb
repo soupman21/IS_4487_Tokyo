{
  "cells": [
    {
      "cell_type": "markdown",
      "metadata": {
        "id": "view-in-github",
        "colab_type": "text"
      },
      "source": [
        "<a href=\"https://colab.research.google.com/github/soupman21/IS_4487_Tokyo/blob/main/Campbell_Brown_day6_lab_megatelco_tree_model(I).ipynb\" target=\"_parent\"><img src=\"https://colab.research.google.com/assets/colab-badge.svg\" alt=\"Open In Colab\"/></a>"
      ]
    },
    {
      "cell_type": "markdown",
      "metadata": {
        "id": "p_Yu45OYdj3Y"
      },
      "source": [
        "# Day 6 Lab, IS 4487\n",
        "\n",
        "The purpose of this lab is to prepare you to complete today's project quiz. Here are the questions you need to be able to answer.\n",
        "\n",
        "- Understand model accuracy.  And:  Why is it a performance metric for classification and not regression?\n",
        "- Calculate accuracy for a simple majority class model (this is the same as calculating the proportion of the majority class in a binary variable).\n",
        "- Fit a tree model of the target with just one predictor variable and calculate the accuracy of this model.\n",
        "- Calculate accuracy for the tree model.\n",
        "- Explain how the classification tree algorithm chooses which variable to split on and where to split.\n",
        "\n",
        "Additionally will talk about cross validation and overfitting."
      ]
    },
    {
      "cell_type": "markdown",
      "metadata": {
        "id": "UE93RwXhgiJS"
      },
      "source": [
        "## Load Libraries\n",
        "\n"
      ]
    },
    {
      "cell_type": "code",
      "execution_count": null,
      "metadata": {
        "id": "JYRZY5n0gfNe"
      },
      "outputs": [],
      "source": [
        "import pandas as pd\n",
        "\n",
        "# Import packages needed for the classification tree\n",
        "from sklearn.tree import plot_tree\n",
        "from sklearn import tree\n",
        "from sklearn.tree import DecisionTreeClassifier, export_graphviz # Import Decision Tree Classifier\n"
      ]
    },
    {
      "cell_type": "markdown",
      "metadata": {
        "id": "bREaXo8jfu-O"
      },
      "source": [
        "## Get Data\n"
      ]
    },
    {
      "cell_type": "code",
      "execution_count": null,
      "metadata": {
        "vscode": {
          "languageId": "plaintext"
        },
        "id": "O8P7DoGU3aG8"
      },
      "outputs": [],
      "source": [
        "mtc = pd.read_csv(\"https://raw.githubusercontent.com/jefftwebb/is_4487_base/dd870389117d5b24eee7417d5378d80496555130/Labs/DataSets/megatelco_leave_survey.csv\")"
      ]
    },
    {
      "cell_type": "markdown",
      "metadata": {
        "id": "BtxOWvFlKzgE"
      },
      "source": [
        "## Clean the data\n",
        "\n",
        "Perform the cleaning from the previous labs:\n",
        "- Remove negative values of income and house\n",
        "- Remove absurdly large value of handset_price\n",
        "- Remove NAs\n",
        "- Change `college` to `yes` and `no`\n",
        "- Make string variables into categorical variables. We've been using `astype(\"categorical\")` to do that, but there is a better way when we also need to define an order among multiple levels.  This is important for plotting and for accurate modelling.\n",
        "\n",
        "Start by making `mtc_clean` an explicit copy.  This will avoid the warning you've been getting: \"A value is trying to be set on a copy of a slice from a DataFrame.\"\n"
      ]
    },
    {
      "cell_type": "code",
      "source": [
        "# Make copy\n",
        "mtc_clean = mtc.copy()"
      ],
      "metadata": {
        "id": "DnlmPgw4vpYX"
      },
      "execution_count": null,
      "outputs": []
    },
    {
      "cell_type": "code",
      "execution_count": null,
      "metadata": {
        "vscode": {
          "languageId": "plaintext"
        },
        "id": "-Qs5j2i23aG8"
      },
      "outputs": [],
      "source": [
        "# filter rows\n",
        "mtc_clean = mtc[(mtc['house'] > 0) & (mtc['income'] > 0) & (mtc['handset_price'] < 1000)]\n"
      ]
    },
    {
      "cell_type": "code",
      "source": [
        "# remove NAs\n",
        "mtc_clean = mtc_clean.dropna()"
      ],
      "metadata": {
        "id": "U0jC5mp0DHUN"
      },
      "execution_count": null,
      "outputs": []
    },
    {
      "cell_type": "code",
      "source": [
        "# Recode college\n",
        "mtc_clean['college'] = mtc_clean['college'].replace({'one': 'yes', 'zero': 'no'})"
      ],
      "metadata": {
        "id": "85LGAi-yzxmt"
      },
      "execution_count": null,
      "outputs": []
    },
    {
      "cell_type": "markdown",
      "source": [
        "We'll use the `pd.Categorical()` function to simultaneously make the string variables categorical and set the levels.  The syntax is:\n",
        "\n",
        "`data['column'] = pd.Categorical(data['column'],\n",
        "  categories = list,\n",
        "  ordered = True)`\n",
        "  \n",
        "  where \"list\" is the list of levels in order, such as:  `['small', 'medium', 'large']`. Without explicitly setting this order the default would be alphabetic:  large, medium, small.\n",
        "\n",
        "  Here's an example:"
      ],
      "metadata": {
        "id": "a5iP8B2Ww-QI"
      }
    },
    {
      "cell_type": "code",
      "source": [
        "# Convert string to categorical variable\n",
        "mtc_clean['leave'] = pd.Categorical(mtc_clean['leave'],\n",
        "                                    categories = ['LEAVE', 'STAY'],\n",
        "                                    ordered = True)\n"
      ],
      "metadata": {
        "id": "cc-Z0X9QDIUZ"
      },
      "execution_count": null,
      "outputs": []
    },
    {
      "cell_type": "code",
      "source": [
        "mtc_clean['leave'].dtype"
      ],
      "metadata": {
        "id": "aUIkFZvcyw3b",
        "colab": {
          "base_uri": "https://localhost:8080/"
        },
        "outputId": "5175c82b-1a85-4540-d94f-b4d6c6a3598e"
      },
      "execution_count": null,
      "outputs": [
        {
          "output_type": "execute_result",
          "data": {
            "text/plain": [
              "CategoricalDtype(categories=['LEAVE', 'STAY'], ordered=True)"
            ]
          },
          "metadata": {},
          "execution_count": 8
        }
      ]
    },
    {
      "cell_type": "markdown",
      "source": [
        "Looks good.  \n",
        "\n",
        "Go ahead and do a similar transformation on the remainder of categorical variables:\n",
        "\n",
        "- `reported_satisfaction`\n",
        "- `reported_usage_level`\n",
        "- `considering_change_of_plan`\n",
        "- `college`"
      ],
      "metadata": {
        "id": "lYH_QEYIzH26"
      }
    },
    {
      "cell_type": "code",
      "execution_count": null,
      "metadata": {
        "id": "7KXLvMcBK8Za"
      },
      "outputs": [],
      "source": [
        "# Your code goes here\n",
        "mtc_clean['reported_satisfaction'] = pd.Categorical(mtc_clean['reported_satisfaction'],\n",
        "                                    categories = ['very_satisfied', 'satisfied', 'neutral', 'unsatisfied', 'very_unsatisfied'],\n",
        "                                    ordered = True)\n",
        "mtc_clean['reported_usage_level'] = pd.Categorical(mtc_clean['reported_usage_level'],\n",
        "                                    categories = ['very_low', 'low', 'neutral', 'high', 'very_high'],\n",
        "                                    ordered = True)\n",
        "mtc_clean['considering_change_of_plan'] = pd.Categorical(mtc_clean['considering_change_of_plan'],\n",
        "                                    categories = ['yes', 'no'])\n",
        "mtc_clean['college'] = pd.Categorical(mtc_clean['college'],\n",
        "                                    categories = ['yes', 'no'])"
      ]
    },
    {
      "cell_type": "markdown",
      "metadata": {
        "id": "uathUi6xfDPf"
      },
      "source": [
        "## Calculate the proportion of the majority class  \n",
        "What is the proportion of customers who churned? Note that `len(data)` (where \"data\" is your data frame) returns a count of the number of observations.\n"
      ]
    },
    {
      "cell_type": "code",
      "execution_count": null,
      "metadata": {
        "id": "3Ajdg2zO56Cf",
        "colab": {
          "base_uri": "https://localhost:8080/"
        },
        "outputId": "35102e35-1c38-427d-e879-bb2e3b7d17b2"
      },
      "outputs": [
        {
          "output_type": "execute_result",
          "data": {
            "text/plain": [
              "0.4941930316379656"
            ]
          },
          "metadata": {},
          "execution_count": 10
        }
      ],
      "source": [
        "# Your code goes here\n",
        "mtc_clean['leave'].value_counts(normalize=True)\n",
        "\n",
        "sum(mtc_clean['leave'] == 'LEAVE') / len(mtc_clean)"
      ]
    },
    {
      "cell_type": "markdown",
      "source": [
        "Why should we care?\n",
        "\n",
        "The majority class in the target variable will serve as an important benchmark for model performance. Predicting the majority class is the simplest possible classifier. We'll call it the \"majority class classifier.\" It represents the best predictive guess you can make, in the absence of other information.  The accuracy of the majority class classifier is simply the proportion of the majority class in the data.\n",
        "\n",
        "Why is this?\n",
        "\n",
        "*Accuracy is defined as the proportion of correctly predicted labels. It is a commonly used error metric for evaluating classifier performance.*\n",
        "\n",
        "**Whatever later model we develop should have better accuracy than this performance benchmark.**"
      ],
      "metadata": {
        "id": "PBUEVVQz7G6n"
      }
    },
    {
      "cell_type": "markdown",
      "metadata": {
        "id": "SoJLJMlceORN"
      },
      "source": [
        "## Fit a basic tree model\n",
        "\n",
        "Use just one variable, `income`. This is a very simple tree we'll call the \"money tree.\"\n",
        "\n"
      ]
    },
    {
      "cell_type": "code",
      "execution_count": null,
      "metadata": {
        "id": "1Vw085TGtcrB"
      },
      "outputs": [],
      "source": [
        "# Step 1:  Initialize model, specifying\n",
        "# 1. split criterion is entropy\n",
        "# 2. max_depth = 2\n",
        "\n",
        "money_tree = DecisionTreeClassifier(criterion = \"entropy\", max_depth = 2)"
      ]
    },
    {
      "cell_type": "markdown",
      "source": [
        "Explanation of code:\n",
        "\n",
        "- `DecisionTreeClassifier()`: Creates an instance of the decision tree classifier from scikit-learn\n",
        "- `criterion=\"entropy\"`: Specifies the function to measure the quality of a split (entropy measures the impurity of the split)\n",
        "- `max_depth=2`: Limits the tree to a maximum depth of 2 levels, controlling complexity and preventing overfitting\n",
        "- Output: Returns a configured decision tree classifier object, ready to be fitted with data\n"
      ],
      "metadata": {
        "id": "k6SUiB_x-tvW"
      }
    },
    {
      "cell_type": "code",
      "source": [
        "# Step 2: Create Decision Tree Classifer, specifying\n",
        "# 1. X (the predictor set) as income\n",
        "# 2. y (the target) as leave\n",
        "\n",
        "money_tree = money_tree.fit(X = mtc_clean[['income']],\n",
        "                            y = mtc_clean['leave'])\n"
      ],
      "metadata": {
        "id": "yzCaZ2Ud0Dmz"
      },
      "execution_count": null,
      "outputs": []
    },
    {
      "cell_type": "markdown",
      "source": [
        "Explanation of code:\n",
        "\n",
        "- `money_tree.fit()`: Trains the decision tree classifier on the provided data\n",
        "- `X = mtc_clean[['income']]`: Input feature (predictor), selecting only the `income` column *as a DataFrame* (note the double square brackets)\n",
        "- `y = mtc_clean['leave']`: Target variable, the `leave` column containing the class labels\n",
        "- Output: Returns the fitted decision tree model, now trained on the income data to predict customer churn\n",
        "\n",
        "Gemini prompt:  \"what is the difference between double and single square brackets in Pandas for slicing?\""
      ],
      "metadata": {
        "id": "UwkbiKj8-77f"
      }
    },
    {
      "cell_type": "code",
      "source": [
        "# Step 3: Visualize the money tree model\n",
        "plot_tree(money_tree,\n",
        "          feature_names=[['income']],\n",
        "          class_names=['STAY', 'LEAVE'],\n",
        "          filled=True)\n"
      ],
      "metadata": {
        "id": "SBmTomoI0vqT",
        "colab": {
          "base_uri": "https://localhost:8080/",
          "height": 549
        },
        "outputId": "f298c9c3-b039-4a46-a838-7a1ee8fc325f"
      },
      "execution_count": null,
      "outputs": [
        {
          "output_type": "execute_result",
          "data": {
            "text/plain": [
              "[Text(0.5, 0.8333333333333334, \"['income'] <= 99993.0\\nentropy = 1.0\\nsamples = 4994\\nvalue = [2468, 2526]\\nclass = LEAVE\"),\n",
              " Text(0.25, 0.5, \"['income'] <= 20181.0\\nentropy = 0.991\\nsamples = 3303\\nvalue = [1468, 1835]\\nclass = LEAVE\"),\n",
              " Text(0.125, 0.16666666666666666, 'entropy = 0.0\\nsamples = 8\\nvalue = [0, 8]\\nclass = LEAVE'),\n",
              " Text(0.375, 0.16666666666666666, 'entropy = 0.991\\nsamples = 3295\\nvalue = [1468, 1827]\\nclass = LEAVE'),\n",
              " Text(0.75, 0.5, \"['income'] <= 159576.0\\nentropy = 0.976\\nsamples = 1691\\nvalue = [1000, 691]\\nclass = STAY\"),\n",
              " Text(0.625, 0.16666666666666666, 'entropy = 0.977\\nsamples = 1680\\nvalue = [989, 691]\\nclass = STAY'),\n",
              " Text(0.875, 0.16666666666666666, 'entropy = 0.0\\nsamples = 11\\nvalue = [11, 0]\\nclass = STAY')]"
            ]
          },
          "metadata": {},
          "execution_count": 13
        },
        {
          "output_type": "display_data",
          "data": {
            "text/plain": [
              "<Figure size 640x480 with 1 Axes>"
            ],
            "image/png": "[encoded data removed]"
          },
          "metadata": {}
        }
      ]
    },
    {
      "cell_type": "markdown",
      "source": [
        "Explanation of code:\n",
        "\n",
        "- `plot_tree()`: Function from scikit-learn to visualize the decision tree\n",
        "- `money_tree`: The fitted decision tree model to be visualized\n",
        "- `feature_names=[['income']]`: Labels the feature as `income` in the tree diagram\n",
        "- `class_names=['STAY', 'LEAVE']`: Specifies the names for the target classes in the visualization\n",
        "- `filled=True`: Colorizes the nodes based on the majority class at each node\n"
      ],
      "metadata": {
        "id": "cDiScO_z_Jr_"
      }
    },
    {
      "cell_type": "markdown",
      "source": [
        "This plot is a bit confusing!  Here is an interpretive guide.\n",
        "\n",
        "1. **Root Node (Top)**:\n",
        "   - Split: income <= 99993.0\n",
        "   - Samples: 4994\n",
        "   - Initial prediction: LEAVE\n",
        "\n",
        "2. **Second Level**:\n",
        "   - Left Branch (income <= 20181.0):\n",
        "     - Samples: 3303\n",
        "     - Prediction: LEAVE\n",
        "   - Right Branch (20181.0 < income <= 159576.0):\n",
        "     - Samples: 1691\n",
        "     - Prediction: STAY\n",
        "\n",
        "3. **Third Level (Leaf Nodes)**:\n",
        "   - Far Left (income <= 20181.0):\n",
        "     - Samples: 8\n",
        "     - Prediction: LEAVE (high certainty, entropy = 0.0)\n",
        "   - Middle Left (20181.0 < income <= 99993.0):\n",
        "     - Samples: 3295\n",
        "     - Prediction: LEAVE (with uncertainty, entropy = 0.991)\n",
        "   - Middle Right (99993.0 < income <= 159576.0):\n",
        "     - Samples: 1680\n",
        "     - Prediction: STAY (with uncertainty, entropy = 0.977)\n",
        "   - Far Right (income > 159576.0):\n",
        "     - Samples: 11\n",
        "     - Prediction: STAY (high certainty, entropy = 0.0)\n",
        "\n"
      ],
      "metadata": {
        "id": "IbW4AjDb2jRr"
      }
    },
    {
      "cell_type": "markdown",
      "metadata": {
        "id": "sSNfQKZA3jg2"
      },
      "source": [
        "## Check Accuracy\n",
        "\n",
        "What is the accuracy of the money_tree?\n"
      ]
    },
    {
      "cell_type": "code",
      "execution_count": null,
      "metadata": {
        "id": "eVOSIP8SeYg3"
      },
      "outputs": [],
      "source": [
        "# 1. Generate predictions from the model for the training data\n",
        "pred = money_tree.predict(X = mtc_clean[['income']])\n"
      ]
    },
    {
      "cell_type": "markdown",
      "source": [
        "Explanation of code:\n",
        "\n",
        "- `money_tree.predict()`: Method to make predictions using the trained decision tree model\n",
        "- `X = mtc_clean[['income']]`: Input data for prediction, using only the `income` column from the DataFrame\n",
        "- Output: Returns an array of predicted class labels ('STAY' or 'LEAVE') for each row in the input data\n"
      ],
      "metadata": {
        "id": "jXLkeMZL_zl3"
      }
    },
    {
      "cell_type": "code",
      "source": [
        "# 2. Calculate accuracy as the proportion of correct predictions\n",
        "\n",
        "# Your code goes here\n",
        "\n",
        "pred == mtc_clean['leave']\n",
        "sum(pred == mtc_clean['leave']) / len(mtc_clean)"
      ],
      "metadata": {
        "id": "3--rlxGz4Ijb",
        "colab": {
          "base_uri": "https://localhost:8080/"
        },
        "outputId": "ecb273bd-58ec-43bb-d31f-0554277d4d16"
      },
      "execution_count": null,
      "outputs": [
        {
          "output_type": "execute_result",
          "data": {
            "text/plain": [
              "0.5676812174609531"
            ]
          },
          "metadata": {},
          "execution_count": 15
        }
      ]
    },
    {
      "cell_type": "markdown",
      "source": [
        "So, this is better than the accuracy of the majority class classifier, which was our benchmark.  Success!\n",
        "\n",
        "Would a more complicated model have better performance measured in terms of accuracy?"
      ],
      "metadata": {
        "id": "72FK7HoX9I-r"
      }
    },
    {
      "cell_type": "markdown",
      "source": [
        "## Overfitting\n",
        "\n",
        "Refit the tree, only this time leave out the `max_depth` argument.  This will allow the tree to fit as complicated a model as possible."
      ],
      "metadata": {
        "id": "ZMR3whx_5GlH"
      }
    },
    {
      "cell_type": "code",
      "source": [
        "# Your code goes here\n",
        "\n",
        "money_tree = DecisionTreeClassifier(criterion = \"entropy\")\n",
        "money_tree = money_tree.fit(X = mtc_clean[['income']],\n",
        "                            y = mtc_clean['leave'])"
      ],
      "metadata": {
        "id": "aAJoimRw5MqZ"
      },
      "execution_count": null,
      "outputs": []
    },
    {
      "cell_type": "code",
      "source": [
        "sum(pred == mtc_clean['leave']) / len(pred)"
      ],
      "metadata": {
        "colab": {
          "base_uri": "https://localhost:8080/"
        },
        "id": "YsOwW1Qx5smO",
        "outputId": "462b2b1d-52c8-467f-aa4f-0784d98ed0cd"
      },
      "execution_count": null,
      "outputs": [
        {
          "output_type": "execute_result",
          "data": {
            "text/plain": [
              "0.5676812174609531"
            ]
          },
          "metadata": {},
          "execution_count": 17
        }
      ]
    },
    {
      "cell_type": "code",
      "source": [
        "plot_tree(money_tree,\n",
        "          feature_names=[['income']],\n",
        "          class_names=['STAY', 'LEAVE'],\n",
        "          filled=True)"
      ],
      "metadata": {
        "id": "FHGaLjpJ54c1"
      },
      "execution_count": null,
      "outputs": []
    },
    {
      "cell_type": "markdown",
      "source": [
        "Whoa!\n",
        "\n",
        "What is the accuracy of this model?"
      ],
      "metadata": {
        "id": "0Wnnf3Wm6AyP"
      }
    },
    {
      "cell_type": "code",
      "source": [
        "# Your code goes here\n",
        "\n",
        "pred = money_tree.predict(X = mtc_clean[['income']])\n",
        "sum(pred == mtc_clean['leave']) / len(pred)"
      ],
      "metadata": {
        "id": "3iTvS_l95__u",
        "colab": {
          "base_uri": "https://localhost:8080/"
        },
        "outputId": "1b81d29f-223f-470b-d460-b04240880543"
      },
      "execution_count": null,
      "outputs": [
        {
          "output_type": "execute_result",
          "data": {
            "text/plain": [
              "0.9881858229875851"
            ]
          },
          "metadata": {},
          "execution_count": 19
        }
      ]
    },
    {
      "cell_type": "markdown",
      "source": [
        "Killing it!"
      ],
      "metadata": {
        "id": "kKJ0uq8N61eP"
      }
    },
    {
      "cell_type": "markdown",
      "source": [
        "## Cross-validation\n",
        "\n",
        "Or:  maybe not.  Will you get promoted or ... fired?\n",
        "\n",
        "This model is excessively complicated.  It has figured out how to classify the target perfectly *in the training data*. It has essentially just memorize the training data.  However, when it encounters new data **it will suck**. That's because new data will have patterns that were not in the training data (this is the nature of sampling) and the overfit model will get badly confused.\n",
        "\n",
        "To demonstrate this we will use cross-validation.\n",
        "\n",
        "The simplest version of cross-validation uses a training set and a testing or validation set. (This is called the validation set method.) Simply, we divide the data that we have into two parts: 80% goes into the training set and 20% into the testing set. (80/20 is a common choice.) That division is done randomly using the `sample()` function.\n",
        "\n"
      ],
      "metadata": {
        "id": "7ynhMyZR7BuX"
      }
    },
    {
      "cell_type": "code",
      "source": [
        "# divide mtc_clean into train and test\n",
        "train = mtc_clean.sample(frac=0.8, random_state=200) # 80% of data for training\n",
        "test = mtc_clean.drop(train.index) # the remaining 20%\n"
      ],
      "metadata": {
        "id": "CxdV8oWo9OrP"
      },
      "execution_count": null,
      "outputs": []
    },
    {
      "cell_type": "markdown",
      "source": [
        "`random_state` is a seed that ensures the same split when set to 200 (an arbitrary choice). This will make our results comparable."
      ],
      "metadata": {
        "id": "Nyj6Q2jF96wf"
      }
    },
    {
      "cell_type": "code",
      "source": [
        "train.head()"
      ],
      "metadata": {
        "id": "Jpk4epVa911m",
        "colab": {
          "base_uri": "https://localhost:8080/",
          "height": 226
        },
        "outputId": "f6bc38ea-930d-42d7-8d4d-91569199ae71"
      },
      "execution_count": null,
      "outputs": [
        {
          "output_type": "execute_result",
          "data": {
            "text/plain": [
              "     college  income  overage  leftover   house  handset_price  \\\n",
              "3773     yes   80751        0        54  298898            371   \n",
              "2835      no   75827        0        58  169117            264   \n",
              "432       no  114384       71         0  204766            814   \n",
              "3959      no   84795        0        14  914009            302   \n",
              "409       no   85012        0         0  485532            380   \n",
              "\n",
              "      over_15mins_calls_per_month  average_call_duration  \\\n",
              "3773                          1.0                      2   \n",
              "2835                          1.0                      2   \n",
              "432                           5.0                     14   \n",
              "3959                          1.0                      5   \n",
              "409                           0.0                      9   \n",
              "\n",
              "     reported_satisfaction reported_usage_level considering_change_of_plan  \\\n",
              "3773                   NaN                  low                         no   \n",
              "2835                   NaN                  low                         no   \n",
              "432                    NaN                  low                        yes   \n",
              "3959                   NaN                  low                         no   \n",
              "409                    NaN                  low                         no   \n",
              "\n",
              "      leave     id  \n",
              "3773   STAY  10317  \n",
              "2835   STAY   6724  \n",
              "432    STAY   4530  \n",
              "3959   STAY   7738  \n",
              "409   LEAVE   7788  "
            ],
            "text/html": [
              "\n",
              "  <div id=\"df-fca47b09-e266-4d4c-8eb9-ab7b524d7916\" class=\"colab-df-container\">\n",
              "    <div>\n",
              "<style scoped>\n",
              "    .dataframe tbody tr th:only-of-type {\n",
              "        vertical-align: middle;\n",
              "    }\n",
              "\n",
              "    .dataframe tbody tr th {\n",
              "        vertical-align: top;\n",
              "    }\n",
              "\n",
              "    .dataframe thead th {\n",
              "        text-align: right;\n",
              "    }\n",
              "</style>\n",
              "<table border=\"1\" class=\"dataframe\">\n",
              "  <thead>\n",
              "    <tr style=\"text-align: right;\">\n",
              "      <th></th>\n",
              "      <th>college</th>\n",
              "      <th>income</th>\n",
              "      <th>overage</th>\n",
              "      <th>leftover</th>\n",
              "      <th>house</th>\n",
              "      <th>handset_price</th>\n",
              "      <th>over_15mins_calls_per_month</th>\n",
              "      <th>average_call_duration</th>\n",
              "      <th>reported_satisfaction</th>\n",
              "      <th>reported_usage_level</th>\n",
              "      <th>considering_change_of_plan</th>\n",
              "      <th>leave</th>\n",
              "      <th>id</th>\n",
              "    </tr>\n",
              "  </thead>\n",
              "  <tbody>\n",
              "    <tr>\n",
              "      <th>3773</th>\n",
              "      <td>yes</td>\n",
              "      <td>80751</td>\n",
              "      <td>0</td>\n",
              "      <td>54</td>\n",
              "      <td>298898</td>\n",
              "      <td>371</td>\n",
              "      <td>1.0</td>\n",
              "      <td>2</td>\n",
              "      <td>NaN</td>\n",
              "      <td>low</td>\n",
              "      <td>no</td>\n",
              "      <td>STAY</td>\n",
              "      <td>10317</td>\n",
              "    </tr>\n",
              "    <tr>\n",
              "      <th>2835</th>\n",
              "      <td>no</td>\n",
              "      <td>75827</td>\n",
              "      <td>0</td>\n",
              "      <td>58</td>\n",
              "      <td>169117</td>\n",
              "      <td>264</td>\n",
              "      <td>1.0</td>\n",
              "      <td>2</td>\n",
              "      <td>NaN</td>\n",
              "      <td>low</td>\n",
              "      <td>no</td>\n",
              "      <td>STAY</td>\n",
              "      <td>6724</td>\n",
              "    </tr>\n",
              "    <tr>\n",
              "      <th>432</th>\n",
              "      <td>no</td>\n",
              "      <td>114384</td>\n",
              "      <td>71</td>\n",
              "      <td>0</td>\n",
              "      <td>204766</td>\n",
              "      <td>814</td>\n",
              "      <td>5.0</td>\n",
              "      <td>14</td>\n",
              "      <td>NaN</td>\n",
              "      <td>low</td>\n",
              "      <td>yes</td>\n",
              "      <td>STAY</td>\n",
              "      <td>4530</td>\n",
              "    </tr>\n",
              "    <tr>\n",
              "      <th>3959</th>\n",
              "      <td>no</td>\n",
              "      <td>84795</td>\n",
              "      <td>0</td>\n",
              "      <td>14</td>\n",
              "      <td>914009</td>\n",
              "      <td>302</td>\n",
              "      <td>1.0</td>\n",
              "      <td>5</td>\n",
              "      <td>NaN</td>\n",
              "      <td>low</td>\n",
              "      <td>no</td>\n",
              "      <td>STAY</td>\n",
              "      <td>7738</td>\n",
              "    </tr>\n",
              "    <tr>\n",
              "      <th>409</th>\n",
              "      <td>no</td>\n",
              "      <td>85012</td>\n",
              "      <td>0</td>\n",
              "      <td>0</td>\n",
              "      <td>485532</td>\n",
              "      <td>380</td>\n",
              "      <td>0.0</td>\n",
              "      <td>9</td>\n",
              "      <td>NaN</td>\n",
              "      <td>low</td>\n",
              "      <td>no</td>\n",
              "      <td>LEAVE</td>\n",
              "      <td>7788</td>\n",
              "    </tr>\n",
              "  </tbody>\n",
              "</table>\n",
              "</div>\n",
              "    <div class=\"colab-df-buttons\">\n",
              "\n",
              "  <div class=\"colab-df-container\">\n",
              "    <button class=\"colab-df-convert\" onclick=\"convertToInteractive('df-fca47b09-e266-4d4c-8eb9-ab7b524d7916')\"\n",
              "            title=\"Convert this dataframe to an interactive table.\"\n",
              "            style=\"display:none;\">\n",
              "\n",
              "  <svg xmlns=\"http://www.w3.org/2000/svg\" height=\"24px\" viewBox=\"0 -960 960 960\">\n",
              "    <path d=\"M120-120v-720h720v720H120Zm60-500h600v-160H180v160Zm220 220h160v-160H400v160Zm0 220h160v-160H400v160ZM180-400h160v-160H180v160Zm440 0h160v-160H620v160ZM180-180h160v-160H180v160Zm440 0h160v-160H620v160Z\"/>\n",
              "  </svg>\n",
              "    </button>\n",
              "\n",
              "  <style>\n",
              "    .colab-df-container {\n",
              "      display:flex;\n",
              "      gap: 12px;\n",
              "    }\n",
              "\n",
              "    .colab-df-convert {\n",
              "      background-color: #E8F0FE;\n",
              "      border: none;\n",
              "      border-radius: 50%;\n",
              "      cursor: pointer;\n",
              "      display: none;\n",
              "      fill: #1967D2;\n",
              "      height: 32px;\n",
              "      padding: 0 0 0 0;\n",
              "      width: 32px;\n",
              "    }\n",
              "\n",
              "    .colab-df-convert:hover {\n",
              "      background-color: #E2EBFA;\n",
              "      box-shadow: 0px 1px 2px rgba(60, 64, 67, 0.3), 0px 1px 3px 1px rgba(60, 64, 67, 0.15);\n",
              "      fill: #174EA6;\n",
              "    }\n",
              "\n",
              "    .colab-df-buttons div {\n",
              "      margin-bottom: 4px;\n",
              "    }\n",
              "\n",
              "    [theme=dark] .colab-df-convert {\n",
              "      background-color: #3B4455;\n",
              "      fill: #D2E3FC;\n",
              "    }\n",
              "\n",
              "    [theme=dark] .colab-df-convert:hover {\n",
              "      background-color: #434B5C;\n",
              "      box-shadow: 0px 1px 3px 1px rgba(0, 0, 0, 0.15);\n",
              "      filter: drop-shadow(0px 1px 2px rgba(0, 0, 0, 0.3));\n",
              "      fill: #FFFFFF;\n",
              "    }\n",
              "  </style>\n",
              "\n",
              "    <script>\n",
              "      const buttonEl =\n",
              "        document.querySelector('#df-fca47b09-e266-4d4c-8eb9-ab7b524d7916 button.colab-df-convert');\n",
              "      buttonEl.style.display =\n",
              "        google.colab.kernel.accessAllowed ? 'block' : 'none';\n",
              "\n",
              "      async function convertToInteractive(key) {\n",
              "        const element = document.querySelector('#df-fca47b09-e266-4d4c-8eb9-ab7b524d7916');\n",
              "        const dataTable =\n",
              "          await google.colab.kernel.invokeFunction('convertToInteractive',\n",
              "                                                    [key], {});\n",
              "        if (!dataTable) return;\n",
              "\n",
              "        const docLinkHtml = 'Like what you see? Visit the ' +\n",
              "          '<a target=\"_blank\" href=https://colab.research.google.com/notebooks/data_table.ipynb>data table notebook</a>'\n",
              "          + ' to learn more about interactive tables.';\n",
              "        element.innerHTML = '';\n",
              "        dataTable['output_type'] = 'display_data';\n",
              "        await google.colab.output.renderOutput(dataTable, element);\n",
              "        const docLink = document.createElement('div');\n",
              "        docLink.innerHTML = docLinkHtml;\n",
              "        element.appendChild(docLink);\n",
              "      }\n",
              "    </script>\n",
              "  </div>\n",
              "\n",
              "\n",
              "<div id=\"df-0e45a32b-a4cc-4cfb-b59a-6a06385b4242\">\n",
              "  <button class=\"colab-df-quickchart\" onclick=\"quickchart('df-0e45a32b-a4cc-4cfb-b59a-6a06385b4242')\"\n",
              "            title=\"Suggest charts\"\n",
              "            style=\"display:none;\">\n",
              "\n",
              "<svg xmlns=\"http://www.w3.org/2000/svg\" height=\"24px\"viewBox=\"0 0 24 24\"\n",
              "     width=\"24px\">\n",
              "    <g>\n",
              "        <path d=\"M19 3H5c-1.1 0-2 .9-2 2v14c0 1.1.9 2 2 2h14c1.1 0 2-.9 2-2V5c0-1.1-.9-2-2-2zM9 17H7v-7h2v7zm4 0h-2V7h2v10zm4 0h-2v-4h2v4z\"/>\n",
              "    </g>\n",
              "</svg>\n",
              "  </button>\n",
              "\n",
              "<style>\n",
              "  .colab-df-quickchart {\n",
              "      --bg-color: #E8F0FE;\n",
              "      --fill-color: #1967D2;\n",
              "      --hover-bg-color: #E2EBFA;\n",
              "      --hover-fill-color: #174EA6;\n",
              "      --disabled-fill-color: #AAA;\n",
              "      --disabled-bg-color: #DDD;\n",
              "  }\n",
              "\n",
              "  [theme=dark] .colab-df-quickchart {\n",
              "      --bg-color: #3B4455;\n",
              "      --fill-color: #D2E3FC;\n",
              "      --hover-bg-color: #434B5C;\n",
              "      --hover-fill-color: #FFFFFF;\n",
              "      --disabled-bg-color: #3B4455;\n",
              "      --disabled-fill-color: #666;\n",
              "  }\n",
              "\n",
              "  .colab-df-quickchart {\n",
              "    background-color: var(--bg-color);\n",
              "    border: none;\n",
              "    border-radius: 50%;\n",
              "    cursor: pointer;\n",
              "    display: none;\n",
              "    fill: var(--fill-color);\n",
              "    height: 32px;\n",
              "    padding: 0;\n",
              "    width: 32px;\n",
              "  }\n",
              "\n",
              "  .colab-df-quickchart:hover {\n",
              "    background-color: var(--hover-bg-color);\n",
              "    box-shadow: 0 1px 2px rgba(60, 64, 67, 0.3), 0 1px 3px 1px rgba(60, 64, 67, 0.15);\n",
              "    fill: var(--button-hover-fill-color);\n",
              "  }\n",
              "\n",
              "  .colab-df-quickchart-complete:disabled,\n",
              "  .colab-df-quickchart-complete:disabled:hover {\n",
              "    background-color: var(--disabled-bg-color);\n",
              "    fill: var(--disabled-fill-color);\n",
              "    box-shadow: none;\n",
              "  }\n",
              "\n",
              "  .colab-df-spinner {\n",
              "    border: 2px solid var(--fill-color);\n",
              "    border-color: transparent;\n",
              "    border-bottom-color: var(--fill-color);\n",
              "    animation:\n",
              "      spin 1s steps(1) infinite;\n",
              "  }\n",
              "\n",
              "  @keyframes spin {\n",
              "    0% {\n",
              "      border-color: transparent;\n",
              "      border-bottom-color: var(--fill-color);\n",
              "      border-left-color: var(--fill-color);\n",
              "    }\n",
              "    20% {\n",
              "      border-color: transparent;\n",
              "      border-left-color: var(--fill-color);\n",
              "      border-top-color: var(--fill-color);\n",
              "    }\n",
              "    30% {\n",
              "      border-color: transparent;\n",
              "      border-left-color: var(--fill-color);\n",
              "      border-top-color: var(--fill-color);\n",
              "      border-right-color: var(--fill-color);\n",
              "    }\n",
              "    40% {\n",
              "      border-color: transparent;\n",
              "      border-right-color: var(--fill-color);\n",
              "      border-top-color: var(--fill-color);\n",
              "    }\n",
              "    60% {\n",
              "      border-color: transparent;\n",
              "      border-right-color: var(--fill-color);\n",
              "    }\n",
              "    80% {\n",
              "      border-color: transparent;\n",
              "      border-right-color: var(--fill-color);\n",
              "      border-bottom-color: var(--fill-color);\n",
              "    }\n",
              "    90% {\n",
              "      border-color: transparent;\n",
              "      border-bottom-color: var(--fill-color);\n",
              "    }\n",
              "  }\n",
              "</style>\n",
              "\n",
              "  <script>\n",
              "    async function quickchart(key) {\n",
              "      const quickchartButtonEl =\n",
              "        document.querySelector('#' + key + ' button');\n",
              "      quickchartButtonEl.disabled = true;  // To prevent multiple clicks.\n",
              "      quickchartButtonEl.classList.add('colab-df-spinner');\n",
              "      try {\n",
              "        const charts = await google.colab.kernel.invokeFunction(\n",
              "            'suggestCharts', [key], {});\n",
              "      } catch (error) {\n",
              "        console.error('Error during call to suggestCharts:', error);\n",
              "      }\n",
              "      quickchartButtonEl.classList.remove('colab-df-spinner');\n",
              "      quickchartButtonEl.classList.add('colab-df-quickchart-complete');\n",
              "    }\n",
              "    (() => {\n",
              "      let quickchartButtonEl =\n",
              "        document.querySelector('#df-0e45a32b-a4cc-4cfb-b59a-6a06385b4242 button');\n",
              "      quickchartButtonEl.style.display =\n",
              "        google.colab.kernel.accessAllowed ? 'block' : 'none';\n",
              "    })();\n",
              "  </script>\n",
              "</div>\n",
              "\n",
              "    </div>\n",
              "  </div>\n"
            ],
            "application/vnd.google.colaboratory.intrinsic+json": {
              "type": "dataframe",
              "variable_name": "train",
              "summary": "{\n  \"name\": \"train\",\n  \"rows\": 3995,\n  \"fields\": [\n    {\n      \"column\": \"college\",\n      \"properties\": {\n        \"dtype\": \"category\",\n        \"num_unique_values\": 2,\n        \"samples\": [\n          \"no\",\n          \"yes\"\n        ],\n        \"semantic_type\": \"\",\n        \"description\": \"\"\n      }\n    },\n    {\n      \"column\": \"income\",\n      \"properties\": {\n        \"dtype\": \"number\",\n        \"std\": 41531,\n        \"min\": 20028,\n        \"max\": 159938,\n        \"num_unique_values\": 3927,\n        \"samples\": [\n          34175,\n          114070\n        ],\n        \"semantic_type\": \"\",\n        \"description\": \"\"\n      }\n    },\n    {\n      \"column\": \"overage\",\n      \"properties\": {\n        \"dtype\": \"number\",\n        \"std\": 85,\n        \"min\": 0,\n        \"max\": 335,\n        \"num_unique_values\": 241,\n        \"samples\": [\n          160,\n          87\n        ],\n        \"semantic_type\": \"\",\n        \"description\": \"\"\n      }\n    },\n    {\n      \"column\": \"leftover\",\n      \"properties\": {\n        \"dtype\": \"number\",\n        \"std\": 26,\n        \"min\": 0,\n        \"max\": 89,\n        \"num_unique_values\": 86,\n        \"samples\": [\n          33,\n          54\n        ],\n        \"semantic_type\": \"\",\n        \"description\": \"\"\n      }\n    },\n    {\n      \"column\": \"house\",\n      \"properties\": {\n        \"dtype\": \"number\",\n        \"std\": 254424,\n        \"min\": 150305,\n        \"max\": 1000000,\n        \"num_unique_values\": 3971,\n        \"samples\": [\n          568547,\n          555724\n        ],\n        \"semantic_type\": \"\",\n        \"description\": \"\"\n      }\n    },\n    {\n      \"column\": \"handset_price\",\n      \"properties\": {\n        \"dtype\": \"number\",\n        \"std\": 212,\n        \"min\": 130,\n        \"max\": 899,\n        \"num_unique_values\": 736,\n        \"samples\": [\n          529,\n          304\n        ],\n        \"semantic_type\": \"\",\n        \"description\": \"\"\n      }\n    },\n    {\n      \"column\": \"over_15mins_calls_per_month\",\n      \"properties\": {\n        \"dtype\": \"number\",\n        \"std\": 8.907288259863469,\n        \"min\": 0.0,\n        \"max\": 29.0,\n        \"num_unique_values\": 25,\n        \"samples\": [\n          26.0,\n          13.0\n        ],\n        \"semantic_type\": \"\",\n        \"description\": \"\"\n      }\n    },\n    {\n      \"column\": \"average_call_duration\",\n      \"properties\": {\n        \"dtype\": \"number\",\n        \"std\": 4,\n        \"min\": 1,\n        \"max\": 15,\n        \"num_unique_values\": 13,\n        \"samples\": [\n          10,\n          6\n        ],\n        \"semantic_type\": \"\",\n        \"description\": \"\"\n      }\n    },\n    {\n      \"column\": \"reported_satisfaction\",\n      \"properties\": {\n        \"dtype\": \"category\",\n        \"num_unique_values\": 0,\n        \"samples\": [],\n        \"semantic_type\": \"\",\n        \"description\": \"\"\n      }\n    },\n    {\n      \"column\": \"reported_usage_level\",\n      \"properties\": {\n        \"dtype\": \"category\",\n        \"num_unique_values\": 2,\n        \"samples\": [],\n        \"semantic_type\": \"\",\n        \"description\": \"\"\n      }\n    },\n    {\n      \"column\": \"considering_change_of_plan\",\n      \"properties\": {\n        \"dtype\": \"category\",\n        \"num_unique_values\": 2,\n        \"samples\": [],\n        \"semantic_type\": \"\",\n        \"description\": \"\"\n      }\n    },\n    {\n      \"column\": \"leave\",\n      \"properties\": {\n        \"dtype\": \"category\",\n        \"num_unique_values\": 2,\n        \"samples\": [],\n        \"semantic_type\": \"\",\n        \"description\": \"\"\n      }\n    },\n    {\n      \"column\": \"id\",\n      \"properties\": {\n        \"dtype\": \"number\",\n        \"std\": 5818,\n        \"min\": 2,\n        \"max\": 20000,\n        \"num_unique_values\": 3995,\n        \"samples\": [],\n        \"semantic_type\": \"\",\n        \"description\": \"\"\n      }\n    }\n  ]\n}"
            }
          },
          "metadata": {},
          "execution_count": 21
        }
      ]
    },
    {
      "cell_type": "code",
      "source": [
        "test.head()"
      ],
      "metadata": {
        "id": "u8qGHvLq-Ncj",
        "colab": {
          "base_uri": "https://localhost:8080/",
          "height": 226
        },
        "outputId": "1c6ee581-8cb8-4607-8eb8-faa3ec88b34a"
      },
      "execution_count": null,
      "outputs": [
        {
          "output_type": "execute_result",
          "data": {
            "text/plain": [
              "   college  income  overage  leftover   house  handset_price  \\\n",
              "2       no   30883       60         0  647281            211   \n",
              "18      no   50117      216         0  156554            324   \n",
              "19      no   64138        0        34  274984            268   \n",
              "38      no  158711      192        57  271701            557   \n",
              "40     yes   67761        0        46  155536            316   \n",
              "\n",
              "    over_15mins_calls_per_month  average_call_duration reported_satisfaction  \\\n",
              "2                           3.0                      8                   NaN   \n",
              "18                         14.0                      9                   NaN   \n",
              "19                          0.0                      1                   NaN   \n",
              "38                          3.0                      1                   NaN   \n",
              "40                          0.0                      1                   NaN   \n",
              "\n",
              "   reported_usage_level considering_change_of_plan  leave     id  \n",
              "2                   low                        yes   STAY   7425  \n",
              "18                  low                         no  LEAVE  18537  \n",
              "19                  low                         no  LEAVE   3419  \n",
              "38                 high                        yes  LEAVE   8132  \n",
              "40                 high                        yes  LEAVE  14134  "
            ],
            "text/html": [
              "\n",
              "  <div id=\"df-3d821928-cd69-4d67-ace4-f61bdde935ce\" class=\"colab-df-container\">\n",
              "    <div>\n",
              "<style scoped>\n",
              "    .dataframe tbody tr th:only-of-type {\n",
              "        vertical-align: middle;\n",
              "    }\n",
              "\n",
              "    .dataframe tbody tr th {\n",
              "        vertical-align: top;\n",
              "    }\n",
              "\n",
              "    .dataframe thead th {\n",
              "        text-align: right;\n",
              "    }\n",
              "</style>\n",
              "<table border=\"1\" class=\"dataframe\">\n",
              "  <thead>\n",
              "    <tr style=\"text-align: right;\">\n",
              "      <th></th>\n",
              "      <th>college</th>\n",
              "      <th>income</th>\n",
              "      <th>overage</th>\n",
              "      <th>leftover</th>\n",
              "      <th>house</th>\n",
              "      <th>handset_price</th>\n",
              "      <th>over_15mins_calls_per_month</th>\n",
              "      <th>average_call_duration</th>\n",
              "      <th>reported_satisfaction</th>\n",
              "      <th>reported_usage_level</th>\n",
              "      <th>considering_change_of_plan</th>\n",
              "      <th>leave</th>\n",
              "      <th>id</th>\n",
              "    </tr>\n",
              "  </thead>\n",
              "  <tbody>\n",
              "    <tr>\n",
              "      <th>2</th>\n",
              "      <td>no</td>\n",
              "      <td>30883</td>\n",
              "      <td>60</td>\n",
              "      <td>0</td>\n",
              "      <td>647281</td>\n",
              "      <td>211</td>\n",
              "      <td>3.0</td>\n",
              "      <td>8</td>\n",
              "      <td>NaN</td>\n",
              "      <td>low</td>\n",
              "      <td>yes</td>\n",
              "      <td>STAY</td>\n",
              "      <td>7425</td>\n",
              "    </tr>\n",
              "    <tr>\n",
              "      <th>18</th>\n",
              "      <td>no</td>\n",
              "      <td>50117</td>\n",
              "      <td>216</td>\n",
              "      <td>0</td>\n",
              "      <td>156554</td>\n",
              "      <td>324</td>\n",
              "      <td>14.0</td>\n",
              "      <td>9</td>\n",
              "      <td>NaN</td>\n",
              "      <td>low</td>\n",
              "      <td>no</td>\n",
              "      <td>LEAVE</td>\n",
              "      <td>18537</td>\n",
              "    </tr>\n",
              "    <tr>\n",
              "      <th>19</th>\n",
              "      <td>no</td>\n",
              "      <td>64138</td>\n",
              "      <td>0</td>\n",
              "      <td>34</td>\n",
              "      <td>274984</td>\n",
              "      <td>268</td>\n",
              "      <td>0.0</td>\n",
              "      <td>1</td>\n",
              "      <td>NaN</td>\n",
              "      <td>low</td>\n",
              "      <td>no</td>\n",
              "      <td>LEAVE</td>\n",
              "      <td>3419</td>\n",
              "    </tr>\n",
              "    <tr>\n",
              "      <th>38</th>\n",
              "      <td>no</td>\n",
              "      <td>158711</td>\n",
              "      <td>192</td>\n",
              "      <td>57</td>\n",
              "      <td>271701</td>\n",
              "      <td>557</td>\n",
              "      <td>3.0</td>\n",
              "      <td>1</td>\n",
              "      <td>NaN</td>\n",
              "      <td>high</td>\n",
              "      <td>yes</td>\n",
              "      <td>LEAVE</td>\n",
              "      <td>8132</td>\n",
              "    </tr>\n",
              "    <tr>\n",
              "      <th>40</th>\n",
              "      <td>yes</td>\n",
              "      <td>67761</td>\n",
              "      <td>0</td>\n",
              "      <td>46</td>\n",
              "      <td>155536</td>\n",
              "      <td>316</td>\n",
              "      <td>0.0</td>\n",
              "      <td>1</td>\n",
              "      <td>NaN</td>\n",
              "      <td>high</td>\n",
              "      <td>yes</td>\n",
              "      <td>LEAVE</td>\n",
              "      <td>14134</td>\n",
              "    </tr>\n",
              "  </tbody>\n",
              "</table>\n",
              "</div>\n",
              "    <div class=\"colab-df-buttons\">\n",
              "\n",
              "  <div class=\"colab-df-container\">\n",
              "    <button class=\"colab-df-convert\" onclick=\"convertToInteractive('df-3d821928-cd69-4d67-ace4-f61bdde935ce')\"\n",
              "            title=\"Convert this dataframe to an interactive table.\"\n",
              "            style=\"display:none;\">\n",
              "\n",
              "  <svg xmlns=\"http://www.w3.org/2000/svg\" height=\"24px\" viewBox=\"0 -960 960 960\">\n",
              "    <path d=\"M120-120v-720h720v720H120Zm60-500h600v-160H180v160Zm220 220h160v-160H400v160Zm0 220h160v-160H400v160ZM180-400h160v-160H180v160Zm440 0h160v-160H620v160ZM180-180h160v-160H180v160Zm440 0h160v-160H620v160Z\"/>\n",
              "  </svg>\n",
              "    </button>\n",
              "\n",
              "  <style>\n",
              "    .colab-df-container {\n",
              "      display:flex;\n",
              "      gap: 12px;\n",
              "    }\n",
              "\n",
              "    .colab-df-convert {\n",
              "      background-color: #E8F0FE;\n",
              "      border: none;\n",
              "      border-radius: 50%;\n",
              "      cursor: pointer;\n",
              "      display: none;\n",
              "      fill: #1967D2;\n",
              "      height: 32px;\n",
              "      padding: 0 0 0 0;\n",
              "      width: 32px;\n",
              "    }\n",
              "\n",
              "    .colab-df-convert:hover {\n",
              "      background-color: #E2EBFA;\n",
              "      box-shadow: 0px 1px 2px rgba(60, 64, 67, 0.3), 0px 1px 3px 1px rgba(60, 64, 67, 0.15);\n",
              "      fill: #174EA6;\n",
              "    }\n",
              "\n",
              "    .colab-df-buttons div {\n",
              "      margin-bottom: 4px;\n",
              "    }\n",
              "\n",
              "    [theme=dark] .colab-df-convert {\n",
              "      background-color: #3B4455;\n",
              "      fill: #D2E3FC;\n",
              "    }\n",
              "\n",
              "    [theme=dark] .colab-df-convert:hover {\n",
              "      background-color: #434B5C;\n",
              "      box-shadow: 0px 1px 3px 1px rgba(0, 0, 0, 0.15);\n",
              "      filter: drop-shadow(0px 1px 2px rgba(0, 0, 0, 0.3));\n",
              "      fill: #FFFFFF;\n",
              "    }\n",
              "  </style>\n",
              "\n",
              "    <script>\n",
              "      const buttonEl =\n",
              "        document.querySelector('#df-3d821928-cd69-4d67-ace4-f61bdde935ce button.colab-df-convert');\n",
              "      buttonEl.style.display =\n",
              "        google.colab.kernel.accessAllowed ? 'block' : 'none';\n",
              "\n",
              "      async function convertToInteractive(key) {\n",
              "        const element = document.querySelector('#df-3d821928-cd69-4d67-ace4-f61bdde935ce');\n",
              "        const dataTable =\n",
              "          await google.colab.kernel.invokeFunction('convertToInteractive',\n",
              "                                                    [key], {});\n",
              "        if (!dataTable) return;\n",
              "\n",
              "        const docLinkHtml = 'Like what you see? Visit the ' +\n",
              "          '<a target=\"_blank\" href=https://colab.research.google.com/notebooks/data_table.ipynb>data table notebook</a>'\n",
              "          + ' to learn more about interactive tables.';\n",
              "        element.innerHTML = '';\n",
              "        dataTable['output_type'] = 'display_data';\n",
              "        await google.colab.output.renderOutput(dataTable, element);\n",
              "        const docLink = document.createElement('div');\n",
              "        docLink.innerHTML = docLinkHtml;\n",
              "        element.appendChild(docLink);\n",
              "      }\n",
              "    </script>\n",
              "  </div>\n",
              "\n",
              "\n",
              "<div id=\"df-4e189ff6-3358-410c-a362-be7b8da77104\">\n",
              "  <button class=\"colab-df-quickchart\" onclick=\"quickchart('df-4e189ff6-3358-410c-a362-be7b8da77104')\"\n",
              "            title=\"Suggest charts\"\n",
              "            style=\"display:none;\">\n",
              "\n",
              "<svg xmlns=\"http://www.w3.org/2000/svg\" height=\"24px\"viewBox=\"0 0 24 24\"\n",
              "     width=\"24px\">\n",
              "    <g>\n",
              "        <path d=\"M19 3H5c-1.1 0-2 .9-2 2v14c0 1.1.9 2 2 2h14c1.1 0 2-.9 2-2V5c0-1.1-.9-2-2-2zM9 17H7v-7h2v7zm4 0h-2V7h2v10zm4 0h-2v-4h2v4z\"/>\n",
              "    </g>\n",
              "</svg>\n",
              "  </button>\n",
              "\n",
              "<style>\n",
              "  .colab-df-quickchart {\n",
              "      --bg-color: #E8F0FE;\n",
              "      --fill-color: #1967D2;\n",
              "      --hover-bg-color: #E2EBFA;\n",
              "      --hover-fill-color: #174EA6;\n",
              "      --disabled-fill-color: #AAA;\n",
              "      --disabled-bg-color: #DDD;\n",
              "  }\n",
              "\n",
              "  [theme=dark] .colab-df-quickchart {\n",
              "      --bg-color: #3B4455;\n",
              "      --fill-color: #D2E3FC;\n",
              "      --hover-bg-color: #434B5C;\n",
              "      --hover-fill-color: #FFFFFF;\n",
              "      --disabled-bg-color: #3B4455;\n",
              "      --disabled-fill-color: #666;\n",
              "  }\n",
              "\n",
              "  .colab-df-quickchart {\n",
              "    background-color: var(--bg-color);\n",
              "    border: none;\n",
              "    border-radius: 50%;\n",
              "    cursor: pointer;\n",
              "    display: none;\n",
              "    fill: var(--fill-color);\n",
              "    height: 32px;\n",
              "    padding: 0;\n",
              "    width: 32px;\n",
              "  }\n",
              "\n",
              "  .colab-df-quickchart:hover {\n",
              "    background-color: var(--hover-bg-color);\n",
              "    box-shadow: 0 1px 2px rgba(60, 64, 67, 0.3), 0 1px 3px 1px rgba(60, 64, 67, 0.15);\n",
              "    fill: var(--button-hover-fill-color);\n",
              "  }\n",
              "\n",
              "  .colab-df-quickchart-complete:disabled,\n",
              "  .colab-df-quickchart-complete:disabled:hover {\n",
              "    background-color: var(--disabled-bg-color);\n",
              "    fill: var(--disabled-fill-color);\n",
              "    box-shadow: none;\n",
              "  }\n",
              "\n",
              "  .colab-df-spinner {\n",
              "    border: 2px solid var(--fill-color);\n",
              "    border-color: transparent;\n",
              "    border-bottom-color: var(--fill-color);\n",
              "    animation:\n",
              "      spin 1s steps(1) infinite;\n",
              "  }\n",
              "\n",
              "  @keyframes spin {\n",
              "    0% {\n",
              "      border-color: transparent;\n",
              "      border-bottom-color: var(--fill-color);\n",
              "      border-left-color: var(--fill-color);\n",
              "    }\n",
              "    20% {\n",
              "      border-color: transparent;\n",
              "      border-left-color: var(--fill-color);\n",
              "      border-top-color: var(--fill-color);\n",
              "    }\n",
              "    30% {\n",
              "      border-color: transparent;\n",
              "      border-left-color: var(--fill-color);\n",
              "      border-top-color: var(--fill-color);\n",
              "      border-right-color: var(--fill-color);\n",
              "    }\n",
              "    40% {\n",
              "      border-color: transparent;\n",
              "      border-right-color: var(--fill-color);\n",
              "      border-top-color: var(--fill-color);\n",
              "    }\n",
              "    60% {\n",
              "      border-color: transparent;\n",
              "      border-right-color: var(--fill-color);\n",
              "    }\n",
              "    80% {\n",
              "      border-color: transparent;\n",
              "      border-right-color: var(--fill-color);\n",
              "      border-bottom-color: var(--fill-color);\n",
              "    }\n",
              "    90% {\n",
              "      border-color: transparent;\n",
              "      border-bottom-color: var(--fill-color);\n",
              "    }\n",
              "  }\n",
              "</style>\n",
              "\n",
              "  <script>\n",
              "    async function quickchart(key) {\n",
              "      const quickchartButtonEl =\n",
              "        document.querySelector('#' + key + ' button');\n",
              "      quickchartButtonEl.disabled = true;  // To prevent multiple clicks.\n",
              "      quickchartButtonEl.classList.add('colab-df-spinner');\n",
              "      try {\n",
              "        const charts = await google.colab.kernel.invokeFunction(\n",
              "            'suggestCharts', [key], {});\n",
              "      } catch (error) {\n",
              "        console.error('Error during call to suggestCharts:', error);\n",
              "      }\n",
              "      quickchartButtonEl.classList.remove('colab-df-spinner');\n",
              "      quickchartButtonEl.classList.add('colab-df-quickchart-complete');\n",
              "    }\n",
              "    (() => {\n",
              "      let quickchartButtonEl =\n",
              "        document.querySelector('#df-4e189ff6-3358-410c-a362-be7b8da77104 button');\n",
              "      quickchartButtonEl.style.display =\n",
              "        google.colab.kernel.accessAllowed ? 'block' : 'none';\n",
              "    })();\n",
              "  </script>\n",
              "</div>\n",
              "\n",
              "    </div>\n",
              "  </div>\n"
            ],
            "application/vnd.google.colaboratory.intrinsic+json": {
              "type": "dataframe",
              "variable_name": "test",
              "summary": "{\n  \"name\": \"test\",\n  \"rows\": 999,\n  \"fields\": [\n    {\n      \"column\": \"college\",\n      \"properties\": {\n        \"dtype\": \"category\",\n        \"num_unique_values\": 2,\n        \"samples\": [\n          \"yes\",\n          \"no\"\n        ],\n        \"semantic_type\": \"\",\n        \"description\": \"\"\n      }\n    },\n    {\n      \"column\": \"income\",\n      \"properties\": {\n        \"dtype\": \"number\",\n        \"std\": 42305,\n        \"min\": 20065,\n        \"max\": 159934,\n        \"num_unique_values\": 988,\n        \"samples\": [\n          137912,\n          47904\n        ],\n        \"semantic_type\": \"\",\n        \"description\": \"\"\n      }\n    },\n    {\n      \"column\": \"overage\",\n      \"properties\": {\n        \"dtype\": \"number\",\n        \"std\": 84,\n        \"min\": 0,\n        \"max\": 286,\n        \"num_unique_values\": 178,\n        \"samples\": [\n          202,\n          43\n        ],\n        \"semantic_type\": \"\",\n        \"description\": \"\"\n      }\n    },\n    {\n      \"column\": \"leftover\",\n      \"properties\": {\n        \"dtype\": \"number\",\n        \"std\": 26,\n        \"min\": 0,\n        \"max\": 89,\n        \"num_unique_values\": 86,\n        \"samples\": [\n          29,\n          0\n        ],\n        \"semantic_type\": \"\",\n        \"description\": \"\"\n      }\n    },\n    {\n      \"column\": \"house\",\n      \"properties\": {\n        \"dtype\": \"number\",\n        \"std\": 250051,\n        \"min\": 150499,\n        \"max\": 999758,\n        \"num_unique_values\": 998,\n        \"samples\": [\n          198849,\n          878444\n        ],\n        \"semantic_type\": \"\",\n        \"description\": \"\"\n      }\n    },\n    {\n      \"column\": \"handset_price\",\n      \"properties\": {\n        \"dtype\": \"number\",\n        \"std\": 217,\n        \"min\": 130,\n        \"max\": 899,\n        \"num_unique_values\": 495,\n        \"samples\": [\n          403,\n          494\n        ],\n        \"semantic_type\": \"\",\n        \"description\": \"\"\n      }\n    },\n    {\n      \"column\": \"over_15mins_calls_per_month\",\n      \"properties\": {\n        \"dtype\": \"number\",\n        \"std\": 8.349796276279465,\n        \"min\": 0.0,\n        \"max\": 29.0,\n        \"num_unique_values\": 25,\n        \"samples\": [\n          25.0,\n          28.0\n        ],\n        \"semantic_type\": \"\",\n        \"description\": \"\"\n      }\n    },\n    {\n      \"column\": \"average_call_duration\",\n      \"properties\": {\n        \"dtype\": \"number\",\n        \"std\": 4,\n        \"min\": 1,\n        \"max\": 15,\n        \"num_unique_values\": 13,\n        \"samples\": [\n          15,\n          14\n        ],\n        \"semantic_type\": \"\",\n        \"description\": \"\"\n      }\n    },\n    {\n      \"column\": \"reported_satisfaction\",\n      \"properties\": {\n        \"dtype\": \"category\",\n        \"num_unique_values\": 0,\n        \"samples\": [],\n        \"semantic_type\": \"\",\n        \"description\": \"\"\n      }\n    },\n    {\n      \"column\": \"reported_usage_level\",\n      \"properties\": {\n        \"dtype\": \"category\",\n        \"num_unique_values\": 2,\n        \"samples\": [],\n        \"semantic_type\": \"\",\n        \"description\": \"\"\n      }\n    },\n    {\n      \"column\": \"considering_change_of_plan\",\n      \"properties\": {\n        \"dtype\": \"category\",\n        \"num_unique_values\": 2,\n        \"samples\": [],\n        \"semantic_type\": \"\",\n        \"description\": \"\"\n      }\n    },\n    {\n      \"column\": \"leave\",\n      \"properties\": {\n        \"dtype\": \"category\",\n        \"num_unique_values\": 2,\n        \"samples\": [],\n        \"semantic_type\": \"\",\n        \"description\": \"\"\n      }\n    },\n    {\n      \"column\": \"id\",\n      \"properties\": {\n        \"dtype\": \"number\",\n        \"std\": 5802,\n        \"min\": 9,\n        \"max\": 19999,\n        \"num_unique_values\": 999,\n        \"samples\": [],\n        \"semantic_type\": \"\",\n        \"description\": \"\"\n      }\n    }\n  ]\n}"
            }
          },
          "metadata": {},
          "execution_count": 22
        }
      ]
    },
    {
      "cell_type": "markdown",
      "source": [
        "The cross validation procedure is to create the model using the train data and then evaluate it--that is, get predictions--using the test data. Accuracy of the model is therefore calculated using the test data. This way, we get an accurate picture of how the model will perform in the wild, with new data.\n",
        "\n",
        "Make sure to leave out the `max_depth` argument."
      ],
      "metadata": {
        "id": "W6EjdejC-R2n"
      }
    },
    {
      "cell_type": "code",
      "source": [
        "# Initialize the classifier.  Leave out max_depth\n",
        "# Your code goes here\n",
        "money_tree = DecisionTreeClassifier(criterion = \"entropy\")\n",
        "\n",
        "\n",
        "\n"
      ],
      "metadata": {
        "id": "4UOfGsNE_uIN"
      },
      "execution_count": null,
      "outputs": []
    },
    {
      "cell_type": "code",
      "source": [
        "# Fit the model using train\n",
        "# Your code goes here\n",
        "money_tree = money_tree.fit(X = train[['income']],\n",
        "                            y = train['leave'])"
      ],
      "metadata": {
        "id": "dpixS1YF-eEO"
      },
      "execution_count": null,
      "outputs": []
    },
    {
      "cell_type": "code",
      "source": [
        "# Predict using test\n",
        "# Your code goes here\n",
        "pred = money_tree.predict(X = test[['income']])"
      ],
      "metadata": {
        "id": "7BW9raTa-hbv"
      },
      "execution_count": null,
      "outputs": []
    },
    {
      "cell_type": "code",
      "source": [
        "# Calculate model accuracy on the test set\n",
        "# Your code goes here\n",
        "pred == test['leave']\n",
        "sum(pred == test['leave']) / len(pred)"
      ],
      "metadata": {
        "id": "kIRct2Hs--fL",
        "colab": {
          "base_uri": "https://localhost:8080/"
        },
        "outputId": "10009c51-85a7-46a1-b03b-8c5732b8f0f3"
      },
      "execution_count": null,
      "outputs": [
        {
          "output_type": "execute_result",
          "data": {
            "text/plain": [
              "0.5125125125125125"
            ]
          },
          "metadata": {},
          "execution_count": 44
        }
      ]
    },
    {
      "cell_type": "code",
      "source": [
        "test['leave'].value_counts(normalize=True)"
      ],
      "metadata": {
        "colab": {
          "base_uri": "https://localhost:8080/"
        },
        "id": "oxSx0biC84q1",
        "outputId": "efc250d5-7d24-4c96-8157-03824c443643"
      },
      "execution_count": null,
      "outputs": [
        {
          "output_type": "execute_result",
          "data": {
            "text/plain": [
              "leave\n",
              "STAY     0.515516\n",
              "LEAVE    0.484484\n",
              "Name: proportion, dtype: float64"
            ]
          },
          "metadata": {},
          "execution_count": 27
        }
      ]
    },
    {
      "cell_type": "markdown",
      "source": [
        "Better or worse than the simpler model?  \n",
        "\n",
        "Let's explore this further.  More complicated models are good--up to a point.  Choose a `max_depth` argument greater than 2 and see if you can improve on the simple model's accuracy without getting too complex and overfitting."
      ],
      "metadata": {
        "id": "w7hthal9AIPc"
      }
    },
    {
      "cell_type": "code",
      "source": [
        "# Initialize the classifier--chose a max_depth > 2\n",
        "# Your code goes here\n",
        "money_tree = DecisionTreeClassifier(criterion = \"entropy\", max_depth = 3)\n",
        "\n",
        "\n"
      ],
      "metadata": {
        "id": "TZ6VYT6KAki1"
      },
      "execution_count": null,
      "outputs": []
    },
    {
      "cell_type": "code",
      "source": [
        "# Fit the model using train\n",
        "# Your code goes here\n",
        "money_tree = money_tree.fit(X = train[['income']],\n",
        "                            y = train['leave'])\n"
      ],
      "metadata": {
        "id": "f-1C5r8FAoF6"
      },
      "execution_count": null,
      "outputs": []
    },
    {
      "cell_type": "code",
      "source": [
        "# Predict using test\n",
        "# Your code goes here\n",
        "pred = money_tree.predict(X = test[['income']])"
      ],
      "metadata": {
        "id": "nuDDBpWeAlfg"
      },
      "execution_count": null,
      "outputs": []
    },
    {
      "cell_type": "code",
      "source": [
        "# Calculate model accuracy on the test set\n",
        "# Your code goes here\n",
        "pred == test['leave']\n",
        "sum(pred == test['leave']) / len(pred)"
      ],
      "metadata": {
        "id": "d2tvYUxPAyEN",
        "colab": {
          "base_uri": "https://localhost:8080/"
        },
        "outputId": "2a5073c5-6cc2-48ac-9aa0-c9b2bcd48f93"
      },
      "execution_count": null,
      "outputs": [
        {
          "output_type": "execute_result",
          "data": {
            "text/plain": [
              "0.5555555555555556"
            ]
          },
          "metadata": {},
          "execution_count": 49
        }
      ]
    },
    {
      "cell_type": "markdown",
      "source": [
        "## Additional predictors\n",
        "\n",
        "Pick one additional variable to use as a predictor--one that you think is a driver of churn at MegaTelCo, based on your EDA.\n",
        "\n",
        "Refit the model using your best performing `max_depth` setting, with `income` and your chosen second predictor.\n",
        "\n",
        "How does this model perform on the test set?\n",
        "\n",
        "Adding a predictor makes for a more complicated model.  But complicated is good -- as long as it does not tip over into overfitting."
      ],
      "metadata": {
        "id": "OnlGtiDCwNJX"
      }
    },
    {
      "cell_type": "code",
      "source": [
        "# Initialize the classifier--chose a max_depth > 2\n",
        "# Your code goes here\n",
        "money_tree = DecisionTreeClassifier(criterion = \"entropy\", max_depth = 3)"
      ],
      "metadata": {
        "id": "aKDd5ZEOxX7k"
      },
      "execution_count": 64,
      "outputs": []
    },
    {
      "cell_type": "code",
      "source": [
        "# Fit the model using train\n",
        "# Your code goes here\n",
        "money_tree = money_tree.fit(X = train[['income', 'average_call_duration']],\n",
        "                            y = train['leave'])"
      ],
      "metadata": {
        "id": "xjymduwoxdQ1"
      },
      "execution_count": 65,
      "outputs": []
    },
    {
      "cell_type": "code",
      "source": [
        "# Predict using test\n",
        "# Your code goes here\n",
        "pred = money_tree.predict(X = test[['income', 'average_call_duration']])"
      ],
      "metadata": {
        "id": "n-02crspxgid"
      },
      "execution_count": 66,
      "outputs": []
    },
    {
      "cell_type": "code",
      "source": [
        "# Calculate model accuracy on the test set\n",
        "# Your code goes here\n",
        "pred == test['leave']\n",
        "sum(pred == test['leave']) / len(pred)"
      ],
      "metadata": {
        "id": "XJSt7Vn_xjfC",
        "colab": {
          "base_uri": "https://localhost:8080/"
        },
        "outputId": "4b56dd51-c0a6-49e5-dffc-7dd2ee2aa63f"
      },
      "execution_count": 67,
      "outputs": [
        {
          "output_type": "execute_result",
          "data": {
            "text/plain": [
              "0.5515515515515516"
            ]
          },
          "metadata": {},
          "execution_count": 67
        }
      ]
    }
  ],
  "metadata": {
    "colab": {
      "provenance": [],
      "include_colab_link": true
    },
    "kernelspec": {
      "display_name": "Python 3",
      "name": "python3"
    },
    "language_info": {
      "name": "python"
    }
  },
  "nbformat": 4,
  "nbformat_minor": 0
}