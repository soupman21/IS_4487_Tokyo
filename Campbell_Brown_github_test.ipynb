{
  "nbformat": 4,
  "nbformat_minor": 0,
  "metadata": {
    "colab": {
      "provenance": [],
      "include_colab_link": true
    },
    "kernelspec": {
      "name": "python3",
      "display_name": "Python 3"
    },
    "language_info": {
      "name": "python"
    }
  },
  "cells": [
    {
      "cell_type": "markdown",
      "metadata": {
        "id": "view-in-github",
        "colab_type": "text"
      },
      "source": [
        "<a href=\"https://colab.research.google.com/github/soupman21/IS_4487_Tokyo/blob/main/Campbell_Brown_github_test.ipynb\" target=\"_parent\"><img src=\"https://colab.research.google.com/assets/colab-badge.svg\" alt=\"Open In Colab\"/></a>"
      ]
    },
    {
      "cell_type": "markdown",
      "source": [
        "# GitHub Test\n",
        "\n",
        "This notebook is designed to help you get started with GitHub.\n",
        "\n",
        "**Instructions**\n",
        "\n",
        "1. Save this notebook to Google Drive:  \"File\" >> \"Save a copy in drive\"\n",
        "2. Click on the title to rename the notebook (upper left) to include your name.\n",
        "3. Double click this cell to make it editable.\n",
        "4. Write your name below.\n",
        "\n",
        "Your name:  Campbell Brown\n",
        "\n",
        "5. Save the revised copy of the notebook to your GitHub Repo."
      ],
      "metadata": {
        "id": "iC0TUOCaDPlW"
      }
    }
  ]
}